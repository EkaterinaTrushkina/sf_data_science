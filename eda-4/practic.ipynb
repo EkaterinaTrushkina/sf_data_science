{
 "cells": [
  {
   "cell_type": "code",
   "execution_count": 13,
   "metadata": {},
   "outputs": [],
   "source": [
    "petersburg = [0.0974, 0.1352, 0.0817, 0.1016, 0.0968, 0.1064, 0.105]\n",
    "magadan = [0.1033, 0.0915, 0.0781, 0.0685, 0.0677, 0.0697, 0.0764,\n",
    "           0.0689]"
   ]
  },
  {
   "cell_type": "code",
   "execution_count": 11,
   "metadata": {},
   "outputs": [],
   "source": [
    "import pandas as pd #для работы с таблицами"
   ]
  },
  {
   "cell_type": "markdown",
   "metadata": {},
   "source": [
    "# Объедините два массива в DataFrame. "
   ]
  },
  {
   "cell_type": "code",
   "execution_count": 15,
   "metadata": {},
   "outputs": [
    {
     "data": {
      "text/html": [
       "<div>\n",
       "<style scoped>\n",
       "    .dataframe tbody tr th:only-of-type {\n",
       "        vertical-align: middle;\n",
       "    }\n",
       "\n",
       "    .dataframe tbody tr th {\n",
       "        vertical-align: top;\n",
       "    }\n",
       "\n",
       "    .dataframe thead th {\n",
       "        text-align: right;\n",
       "    }\n",
       "</style>\n",
       "<table border=\"1\" class=\"dataframe\">\n",
       "  <thead>\n",
       "    <tr style=\"text-align: right;\">\n",
       "      <th></th>\n",
       "      <th>peterburg</th>\n",
       "      <th>magadan</th>\n",
       "    </tr>\n",
       "  </thead>\n",
       "  <tbody>\n",
       "    <tr>\n",
       "      <th>0</th>\n",
       "      <td>0.0974</td>\n",
       "      <td>0.1033</td>\n",
       "    </tr>\n",
       "    <tr>\n",
       "      <th>1</th>\n",
       "      <td>0.1352</td>\n",
       "      <td>0.0915</td>\n",
       "    </tr>\n",
       "    <tr>\n",
       "      <th>2</th>\n",
       "      <td>0.0817</td>\n",
       "      <td>0.0781</td>\n",
       "    </tr>\n",
       "    <tr>\n",
       "      <th>3</th>\n",
       "      <td>0.1016</td>\n",
       "      <td>0.0685</td>\n",
       "    </tr>\n",
       "    <tr>\n",
       "      <th>4</th>\n",
       "      <td>0.0968</td>\n",
       "      <td>0.0677</td>\n",
       "    </tr>\n",
       "    <tr>\n",
       "      <th>5</th>\n",
       "      <td>0.1064</td>\n",
       "      <td>0.0697</td>\n",
       "    </tr>\n",
       "    <tr>\n",
       "      <th>6</th>\n",
       "      <td>0.1050</td>\n",
       "      <td>0.0764</td>\n",
       "    </tr>\n",
       "    <tr>\n",
       "      <th>7</th>\n",
       "      <td>NaN</td>\n",
       "      <td>0.0689</td>\n",
       "    </tr>\n",
       "  </tbody>\n",
       "</table>\n",
       "</div>"
      ],
      "text/plain": [
       "   peterburg  magadan\n",
       "0     0.0974   0.1033\n",
       "1     0.1352   0.0915\n",
       "2     0.0817   0.0781\n",
       "3     0.1016   0.0685\n",
       "4     0.0968   0.0677\n",
       "5     0.1064   0.0697\n",
       "6     0.1050   0.0764\n",
       "7        NaN   0.0689"
      ]
     },
     "metadata": {},
     "output_type": "display_data"
    }
   ],
   "source": [
    "plen=len(petersburg)\n",
    "mlen=len(magadan)\n",
    "from cmath import nan\n",
    "while plen!=mlen:\n",
    "    if plen>mlen:\n",
    "        magadan.append(nan)\n",
    "        mlen=len(magadan)\n",
    "    else:\n",
    "        petersburg.append(nan)\n",
    "        plen=len(petersburg)\n",
    "data = pd.DataFrame({\n",
    "        'peterburg': petersburg,\n",
    "        'magadan': magadan\n",
    "        },\n",
    "    )\n",
    "display(data)"
   ]
  },
  {
   "cell_type": "markdown",
   "metadata": {},
   "source": [
    "# Тест на нормальность\n",
    "\n",
    "Для выбора статистического теста требуется знать нормально распределены признаки или нет, поэтому сначала проведем тест на нормальность"
   ]
  },
  {
   "cell_type": "code",
   "execution_count": 16,
   "metadata": {},
   "outputs": [],
   "source": [
    "#проверим данные по Санкт-Петербургу\n",
    "H0 = 'Данные по мидиям из Санкт-Петербурга распределены нормально'\n",
    "Ha = 'Данные по мидиям из Санкт-Петербурга не распределены нормально (мы отвергаем H0)'\n",
    "alpha = 0.05"
   ]
  },
  {
   "cell_type": "code",
   "execution_count": 18,
   "metadata": {},
   "outputs": [
    {
     "name": "stdout",
     "output_type": "stream",
     "text": [
      "p=0.242\n",
      "Данные по мидиям из Санкт-Петербурга распределены нормально\n"
     ]
    }
   ],
   "source": [
    "# используем тест Шапиро-Уилка, для Д\"Агостино требуется 8 и более значение, он нам не подходит.\n",
    "from scipy.stats import shapiro\n",
    "_, p = shapiro(data['peterburg'].dropna())\n",
    "print('p=%.3f' % p)\n",
    "\n",
    "# Интерпретация \n",
    "\n",
    "if p > alpha:\n",
    "\tprint(H0)\n",
    "else:\n",
    "\tprint(Ha)"
   ]
  },
  {
   "cell_type": "code",
   "execution_count": 19,
   "metadata": {},
   "outputs": [],
   "source": [
    "#проверим данные по Магадану\n",
    "H0 = 'Данные по мидиям из Магадана распределены нормально'\n",
    "Ha = 'Данные по мидиям из Магадана не распределены нормально (мы отвергаем H0)'\n",
    "alpha = 0.05"
   ]
  },
  {
   "cell_type": "code",
   "execution_count": 20,
   "metadata": {},
   "outputs": [
    {
     "name": "stdout",
     "output_type": "stream",
     "text": [
      "p=0.036\n",
      "Данные по мидиям из Магадана не распределены нормально (мы отвергаем H0)\n"
     ]
    }
   ],
   "source": [
    "# используем тест Шапиро-Уилка.\n",
    "from scipy.stats import shapiro\n",
    "_, p = shapiro(data['magadan'])\n",
    "print('p=%.3f' % p)\n",
    "\n",
    "# Интерпретация \n",
    "\n",
    "if p > alpha:\n",
    "\tprint(H0)\n",
    "else:\n",
    "\tprint(Ha)"
   ]
  },
  {
   "cell_type": "markdown",
   "metadata": {},
   "source": [
    "Итого  один набор данных по мидиям из Санкт-Петербурга у нас распределен нормально. второй набор данных по мидиям из Магадана не распределен нормально, следовательно нам требуется использовать непараметрические тесты. так как обе переменные у нас количественные, то можем использовать тест на корреляцию Спирмена"
   ]
  },
  {
   "cell_type": "markdown",
   "metadata": {},
   "source": [
    "# Тест на корреляцию"
   ]
  },
  {
   "cell_type": "code",
   "execution_count": 23,
   "metadata": {},
   "outputs": [],
   "source": [
    "#заполним значение nan средним\n",
    "data['peterburg'] = data['peterburg'].fillna(data['peterburg'].mean())"
   ]
  },
  {
   "cell_type": "code",
   "execution_count": 25,
   "metadata": {},
   "outputs": [
    {
     "name": "stdout",
     "output_type": "stream",
     "text": [
      "Корреляция состявляет 0.1666666666666667 при уровне значимости 0.693238811728395\n",
      "Отсутствует связь между переменными\n"
     ]
    }
   ],
   "source": [
    "from scipy.stats import spearmanr\n",
    "H0 = 'Отсутствует связь между переменными'\n",
    "Ha = 'Не отсутствует связь между переменными (мы отвергаем H0)'\n",
    "alpha = 0.05\n",
    "\n",
    "corr, p = spearmanr(data['peterburg'], data['magadan'])\n",
    "print(f\"Корреляция состявляет {corr} при уровне значимости {p}\")\n",
    "if p>alpha:\n",
    "    print(H0)\n",
    "else:\n",
    "    print(Ha)"
   ]
  },
  {
   "cell_type": "markdown",
   "metadata": {},
   "source": [
    "Мы не можем отвергнуть нулевую гипотезу, что отсутствует связь между переменными. Так как у нас было 2 разных набора по размеру раковин из разных городов, которые не собирались в одно и то же время, то выглядит логичным, что связи между этими наборами данных не наблюдается."
   ]
  },
  {
   "cell_type": "markdown",
   "metadata": {},
   "source": [
    "# Разница в среднем размере мидии в зависимости от города производителя"
   ]
  },
  {
   "cell_type": "markdown",
   "metadata": {},
   "source": [
    "независимая переменная для данного теста город-производитель, это категориальная переменная, зависимая переменная количественная. \n",
    "Ранее мы выяснили, что распределение не соответствует нормальному и нам нужен непараметрический тест. Подойдет тест сумма рангов Уилкоксона, им мы и воспользуемся"
   ]
  },
  {
   "cell_type": "code",
   "execution_count": 27,
   "metadata": {},
   "outputs": [
    {
     "name": "stdout",
     "output_type": "stream",
     "text": [
      "0.02 <= 0.05. Мы отвергаем нулевую гипотезу. Есть значимая разница между размерами раковин в разных городах.\n"
     ]
    }
   ],
   "source": [
    "from scipy.stats import wilcoxon\n",
    "H0 = 'Нет значимой разницы между размерами раковин в разных городах.'\n",
    "Ha = 'Есть значимая разница между размерами раковин в разных городах.'\n",
    "alpha = 0.05\n",
    "test_results = wilcoxon(data['peterburg'], data['magadan'])\n",
    "p = round(test_results[1],2)\n",
    "if p>alpha:\n",
    "    print(f\"{p} > {alpha}. Мы не можем отвергнуть нулевую гипотезу. {H0}\")\n",
    "else:\n",
    "    print(f\"{p} <= {alpha}. Мы отвергаем нулевую гипотезу. {Ha}\")"
   ]
  },
  {
   "cell_type": "markdown",
   "metadata": {},
   "source": [
    "Мы не можем отвергнуть нулевую гипотезу, следовательно есть значимая разница между размерами раковин с разных городах. Следовательно есть разница в среднем размере мидии в зависимости от города-производителя."
   ]
  }
 ],
 "metadata": {
  "kernelspec": {
   "display_name": "Python 3.9.10 64-bit",
   "language": "python",
   "name": "python3"
  },
  "language_info": {
   "codemirror_mode": {
    "name": "ipython",
    "version": 3
   },
   "file_extension": ".py",
   "mimetype": "text/x-python",
   "name": "python",
   "nbconvert_exporter": "python",
   "pygments_lexer": "ipython3",
   "version": "3.9.10"
  },
  "orig_nbformat": 4,
  "vscode": {
   "interpreter": {
    "hash": "733ae3a553f5bd8edbbf5fbf5af411a6d8f5263831d811a51ed55c68691d90a7"
   }
  }
 },
 "nbformat": 4,
 "nbformat_minor": 2
}
