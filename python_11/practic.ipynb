{
 "cells": [
  {
   "cell_type": "code",
   "execution_count": 1,
   "metadata": {},
   "outputs": [
    {
     "name": "stdout",
     "output_type": "stream",
     "text": [
      "<class 'pandas.core.frame.DataFrame'>\n",
      "RangeIndex: 300000 entries, 0 to 299999\n",
      "Data columns (total 14 columns):\n",
      " #   Column                   Non-Null Count   Dtype  \n",
      "---  ------                   --------------   -----  \n",
      " 0   starttime                300000 non-null  object \n",
      " 1   stoptime                 300000 non-null  object \n",
      " 2   start station id         299831 non-null  float64\n",
      " 3   start station name       299831 non-null  object \n",
      " 4   start station latitude   300000 non-null  float64\n",
      " 5   start station longitude  300000 non-null  float64\n",
      " 6   end station id           299831 non-null  float64\n",
      " 7   end station name         299831 non-null  object \n",
      " 8   end station latitude     300000 non-null  float64\n",
      " 9   end station longitude    300000 non-null  float64\n",
      " 10  bikeid                   300000 non-null  int64  \n",
      " 11  usertype                 300000 non-null  object \n",
      " 12  birth year               300000 non-null  int64  \n",
      " 13  gender                   300000 non-null  int64  \n",
      "dtypes: float64(6), int64(3), object(5)\n",
      "memory usage: 32.0+ MB\n"
     ]
    }
   ],
   "source": [
    "import pandas as pd\n",
    "bike_data = pd.read_csv('data/citibike-tripdata.csv', sep=',')\n",
    "bike_data.info()"
   ]
  },
  {
   "cell_type": "code",
   "execution_count": 3,
   "metadata": {},
   "outputs": [
    {
     "name": "stdout",
     "output_type": "stream",
     "text": [
      "169\n"
     ]
    }
   ],
   "source": [
    "print((300000-299831))"
   ]
  },
  {
   "cell_type": "code",
   "execution_count": 4,
   "metadata": {},
   "outputs": [
    {
     "name": "stdout",
     "output_type": "stream",
     "text": [
      "0    281.0\n",
      "Name: start station id, dtype: float64\n"
     ]
    }
   ],
   "source": [
    "print(bike_data['start station id'].mode())"
   ]
  },
  {
   "cell_type": "code",
   "execution_count": 5,
   "metadata": {},
   "outputs": [
    {
     "name": "stdout",
     "output_type": "stream",
     "text": [
      "0    33887\n",
      "Name: bikeid, dtype: int64\n"
     ]
    }
   ],
   "source": [
    "print(bike_data['bikeid'].mode())"
   ]
  },
  {
   "cell_type": "code",
   "execution_count": 8,
   "metadata": {},
   "outputs": [
    {
     "name": "stdout",
     "output_type": "stream",
     "text": [
      "0.77\n"
     ]
    }
   ],
   "source": [
    "mode_usertype = bike_data['usertype'].mode()[0]\n",
    "count_mode_user = bike_data[bike_data['usertype'] == mode_usertype].shape[0]\n",
    "print(round(count_mode_user / bike_data.shape[0], 2))"
   ]
  },
  {
   "cell_type": "code",
   "execution_count": 9,
   "metadata": {},
   "outputs": [
    {
     "data": {
      "text/plain": [
       "1    0.611940\n",
       "2    0.248353\n",
       "0    0.139707\n",
       "Name: gender, dtype: float64"
      ]
     },
     "execution_count": 9,
     "metadata": {},
     "output_type": "execute_result"
    }
   ],
   "source": [
    "bike_data['gender'].value_counts(normalize=True)\n"
   ]
  },
  {
   "cell_type": "code",
   "execution_count": 15,
   "metadata": {},
   "outputs": [
    {
     "data": {
      "text/plain": [
       "Grand Army Plaza & Central Park S    0.006430\n",
       "Central Park S & 6 Ave               0.006367\n",
       "Pershing Square North                0.006247\n",
       "12 Ave & W 40 St                     0.006153\n",
       "West St & Chambers St                0.006120\n",
       "                                       ...   \n",
       "NYCBS Depot - GOW                    0.000050\n",
       "Franklin Ave & Empire Blvd           0.000037\n",
       "Railroad Ave & Kay Ave               0.000030\n",
       "47 Ave & Skillman Ave                0.000023\n",
       "Eastern Pkwy & Washington Ave        0.000020\n",
       "Name: start station name, Length: 759, dtype: float64"
      ]
     },
     "execution_count": 15,
     "metadata": {},
     "output_type": "execute_result"
    }
   ],
   "source": [
    "bike_data['start station name'].value_counts(normalize=True)"
   ]
  },
  {
   "cell_type": "code",
   "execution_count": 16,
   "metadata": {},
   "outputs": [
    {
     "data": {
      "text/plain": [
       "West St & Chambers St          0.006547\n",
       "12 Ave & W 40 St               0.006367\n",
       "Pershing Square North          0.006170\n",
       "Central Park S & 6 Ave         0.006097\n",
       "E 17 St & Broadway             0.006017\n",
       "                                 ...   \n",
       "Exchange Place                 0.000010\n",
       "Union St                       0.000003\n",
       "Warren St                      0.000003\n",
       "Montrose Ave & Bushwick Ave    0.000003\n",
       "Liberty Light Rail             0.000003\n",
       "Name: end station name, Length: 765, dtype: float64"
      ]
     },
     "execution_count": 16,
     "metadata": {},
     "output_type": "execute_result"
    }
   ],
   "source": [
    "bike_data['end station name'].value_counts(normalize=True)"
   ]
  },
  {
   "cell_type": "code",
   "execution_count": 11,
   "metadata": {},
   "outputs": [
    {
     "name": "stdout",
     "output_type": "stream",
     "text": [
      "183582\n"
     ]
    }
   ],
   "source": [
    "i=bike_data[bike_data['gender']==1].shape[0]\n",
    "j=bike_data[bike_data['gender']==2].shape[0]\n",
    "print(max(i,j))"
   ]
  },
  {
   "cell_type": "code",
   "execution_count": 2,
   "metadata": {},
   "outputs": [
    {
     "name": "stdout",
     "output_type": "stream",
     "text": [
      "759 765\n"
     ]
    }
   ],
   "source": [
    "print (bike_data['start station id'].nunique(),bike_data['end station id'].nunique())"
   ]
  },
  {
   "cell_type": "code",
   "execution_count": 13,
   "metadata": {},
   "outputs": [
    {
     "data": {
      "text/plain": [
       "2002"
      ]
     },
     "execution_count": 13,
     "metadata": {},
     "output_type": "execute_result"
    }
   ],
   "source": [
    "bike_data['birth year'].max()"
   ]
  },
  {
   "cell_type": "code",
   "execution_count": 3,
   "metadata": {},
   "outputs": [
    {
     "name": "stdout",
     "output_type": "stream",
     "text": [
      "12\n"
     ]
    }
   ],
   "source": [
    "bike_data.drop(['start station id', 'end station id'], axis=1, inplace=True)\n",
    "print(bike_data.shape[1])"
   ]
  },
  {
   "cell_type": "code",
   "execution_count": 4,
   "metadata": {},
   "outputs": [
    {
     "name": "stdout",
     "output_type": "stream",
     "text": [
      "11837\n"
     ]
    }
   ],
   "source": [
    "bike_data['age'] = 2018 - bike_data['birth year']\n",
    "bike_data.drop(['birth year'], axis=1, inplace=True)\n",
    "print(bike_data[bike_data['age'] > 60].shape[0])"
   ]
  },
  {
   "cell_type": "code",
   "execution_count": 6,
   "metadata": {},
   "outputs": [
    {
     "name": "stdout",
     "output_type": "stream",
     "text": [
      "13\n"
     ]
    }
   ],
   "source": [
    "bike_data['trip duration']=pd.to_datetime(bike_data['stoptime'])-pd.to_datetime(bike_data['starttime'])\n",
    "print(bike_data.shape[1])\n"
   ]
  },
  {
   "cell_type": "code",
   "execution_count": 9,
   "metadata": {},
   "outputs": [
    {
     "name": "stdout",
     "output_type": "stream",
     "text": [
      "1126\n"
     ]
    }
   ],
   "source": [
    "print(bike_data['trip duration'].mean().seconds)\n",
    "bike_data['starttime'] = pd.to_datetime(bike_data['starttime'])\n",
    "bike_data['stoptime'] = pd.to_datetime(bike_data['stoptime'])"
   ]
  },
  {
   "cell_type": "code",
   "execution_count": 10,
   "metadata": {},
   "outputs": [
    {
     "data": {
      "text/plain": [
       "0         5\n",
       "1         5\n",
       "2         5\n",
       "3         5\n",
       "4         5\n",
       "         ..\n",
       "299995    2\n",
       "299996    2\n",
       "299997    2\n",
       "299998    2\n",
       "299999    2\n",
       "Name: Start DayofWeek, Length: 300000, dtype: int64"
      ]
     },
     "metadata": {},
     "output_type": "display_data"
    }
   ],
   "source": [
    "bike_data['Start DayofWeek']=bike_data['starttime'].dt.dayofweek\n",
    "display(bike_data['Start DayofWeek'])"
   ]
  },
  {
   "cell_type": "code",
   "execution_count": 11,
   "metadata": {},
   "outputs": [
    {
     "name": "stdout",
     "output_type": "stream",
     "text": [
      "115135\n"
     ]
    }
   ],
   "source": [
    "def get_weekend(weekday):\n",
    "    if weekday==5 or weekday==6:\n",
    "        return 1\n",
    "    else:\n",
    "        return 0\n",
    "bike_data['weekend'] = bike_data['Start DayofWeek'].apply(get_weekend)\n",
    "print(bike_data[bike_data['weekend'] == 1].shape[0])  "
   ]
  },
  {
   "cell_type": "code",
   "execution_count": 13,
   "metadata": {},
   "outputs": [
    {
     "name": "stdout",
     "output_type": "stream",
     "text": [
      "9.480411004308916\n"
     ]
    }
   ],
   "source": [
    "def get_time_of_day(timeh):\n",
    "    if timeh>=0 and timeh<=6:\n",
    "        return 'night'\n",
    "    elif timeh>6 and timeh<=12:\n",
    "        return 'morning'\n",
    "    elif timeh>12 and timeh<=18:\n",
    "        return 'day'\n",
    "    elif timeh>18 and timeh<=23:\n",
    "        return 'evening'\n",
    "    else:\n",
    "        return 'else'\n",
    "hour = bike_data['starttime'].dt.hour\n",
    "bike_data['time_of_day']=hour.apply(get_time_of_day)\n",
    "a=bike_data[bike_data['time_of_day'] == 'day'].shape[0]\n",
    "b=bike_data[bike_data['time_of_day'] == 'night'].shape[0]\n",
    "print(a/b)\n",
    "    "
   ]
  }
 ],
 "metadata": {
  "interpreter": {
   "hash": "733ae3a553f5bd8edbbf5fbf5af411a6d8f5263831d811a51ed55c68691d90a7"
  },
  "kernelspec": {
   "display_name": "Python 3.9.10 64-bit",
   "language": "python",
   "name": "python3"
  },
  "language_info": {
   "codemirror_mode": {
    "name": "ipython",
    "version": 3
   },
   "file_extension": ".py",
   "mimetype": "text/x-python",
   "name": "python",
   "nbconvert_exporter": "python",
   "pygments_lexer": "ipython3",
   "version": "3.9.10"
  },
  "orig_nbformat": 4
 },
 "nbformat": 4,
 "nbformat_minor": 2
}
